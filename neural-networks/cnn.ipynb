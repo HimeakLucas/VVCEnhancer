{
 "cells": [
  {
   "cell_type": "code",
   "execution_count": 1,
   "metadata": {},
   "outputs": [],
   "source": [
    "from metrics import calculate_psnr\n",
    "\n",
    "import torch\n",
    "import torch.nn as nn\n",
    "import torch.optim as optim\n",
    "from torch.utils.data import DataLoader, Dataset\n",
    "import cv2\n",
    "import os\n",
    "import numpy as np"
   ]
  },
  {
   "cell_type": "code",
   "execution_count": 2,
   "metadata": {},
   "outputs": [],
   "source": [
    "tile_size = (64, 64) \n",
    "#batch_size = 16\n",
    "#learning_rate = 0.001\n",
    "#num_epochs = 10"
   ]
  },
  {
   "cell_type": "code",
   "execution_count": null,
   "metadata": {},
   "outputs": [],
   "source": [
    "class VideoDataset(Dataset):\n",
    "    def __init__(self, raw_frames_path, compressed_frames_path, tile_size):\n",
    "        self.raw_path = raw_frames_path\n",
    "        self.compressed_path = compressed_frames_path\n",
    "        self.tile_size = tile_size\n",
    "\n",
    "        self.raw_files = sorted(os.listdir(raw_frames_path))\n",
    "        self.compressed_files = sorted(os.listdir(compressed_frames_path))\n",
    "\n",
    "    def __len__(self):\n",
    "        return len(self.raw_files)\n",
    "\n",
    "    def __getitem__(self, idx):\n",
    "\n",
    "        raw_frame = cv2.imread(os.path.join(self.raw_path, self.raw_files[idx]), cv2.IMREAD_GRAYSCALE)\n",
    "        compressed_frame = cv2.imread(os.path.join(self.compressed_path, self.compressed_files[idx]), cv2.IMREAD_GRAYSCALE)\n",
    "\n",
    "        # Standardize size and split into tiles\n",
    "        raw_frame = self.add_padding(raw_frame)\n",
    "        compressed_frame = self.add_padding(compressed_frame)\n",
    "\n",
    "        raw_tiles = self.split_tiles(raw_frame)\n",
    "        compressed_tiles = self.split_tiles(compressed_frame)\n",
    "\n",
    "        # Convert to tensors\n",
    "        raw_tiles = torch.tensor(raw_tiles, dtype=torch.float32).unsqueeze(1) / 255.0\n",
    "        compressed_tiles = torch.tensor(compressed_tiles, dtype=torch.float32).unsqueeze(1) / 255.0\n",
    "\n",
    "        return compressed_tiles, raw_tiles\n",
    "\n",
    "    def add_padding(self, frame):\n",
    "        h, w = frame.shape\n",
    "        pad_h = (self.tile_size[0] - (h % self.tile_size[0])) % self.tile_size[0]\n",
    "        pad_w = (self.tile_size[1] - (w % self.tile_size[1])) % self.tile_size[1]\n",
    "        return cv2.copyMakeBorder(frame, 0, pad_h, 0, pad_w, cv2.BORDER_CONSTANT, value=0)\n",
    "\n",
    "    def split_tiles(self, frame):\n",
    "        h, w = frame.shape\n",
    "        tiles = [\n",
    "            frame[i:i+self.tile_size[0], j:j+self.tile_size[1]]\n",
    "            for i in range(0, h, self.tile_size[0])\n",
    "            for j in range(0, w, self.tile_size[1])\n",
    "        ]\n",
    "        return np.array(tiles)\n"
   ]
  },
  {
   "cell_type": "code",
   "execution_count": null,
   "metadata": {},
   "outputs": [],
   "source": [
    "class ArtifactReductionNet(nn.Module):\n",
    "    def __init__(self):\n",
    "        super(ArtifactReductionNet, self).__init__()\n",
    "        self.encoder = nn.Sequential(\n",
    "            nn.Conv2d(1, 64, kernel_size=3, stride=1, padding=1), \n",
    "            nn.ReLU(),\n",
    "            nn.Conv2d(64, 64, kernel_size=3, stride=1, padding=1),\n",
    "            nn.ReLU()\n",
    "        )\n",
    "        self.decoder = nn.Sequential(\n",
    "            nn.Conv2d(64, 64, kernel_size=3, stride=1, padding=1),\n",
    "            nn.ReLU(),\n",
    "            nn.Conv2d(64, 1, kernel_size=3, stride=1, padding=1)  \n",
    "        )\n",
    "\n",
    "    def forward(self, x):\n",
    "        x = self.encoder(x)\n",
    "        x = self.decoder(x)\n",
    "        return x\n"
   ]
  },
  {
   "cell_type": "code",
   "execution_count": null,
   "metadata": {},
   "outputs": [],
   "source": []
  }
 ],
 "metadata": {
  "kernelspec": {
   "display_name": "Python 3",
   "language": "python",
   "name": "python3"
  },
  "language_info": {
   "codemirror_mode": {
    "name": "ipython",
    "version": 3
   },
   "file_extension": ".py",
   "mimetype": "text/x-python",
   "name": "python",
   "nbconvert_exporter": "python",
   "pygments_lexer": "ipython3",
   "version": "3.10.12"
  }
 },
 "nbformat": 4,
 "nbformat_minor": 2
}
