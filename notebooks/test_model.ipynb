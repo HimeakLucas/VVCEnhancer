{
 "cells": [
  {
   "cell_type": "code",
   "execution_count": 1,
   "metadata": {},
   "outputs": [
    {
     "name": "stdout",
     "output_type": "stream",
     "text": [
      "Dispositivo: cuda\n"
     ]
    }
   ],
   "source": [
    "# Célula 1: Importações e configurações\n",
    "import torch\n",
    "import torch.nn as nn\n",
    "from torchvision import transforms\n",
    "from PIL import Image\n",
    "import matplotlib.pyplot as plt\n",
    "import numpy as np\n",
    "from skimage.metrics import peak_signal_noise_ratio as compare_psnr\n",
    "from skimage.metrics import structural_similarity as compare_ssim\n",
    "\n",
    "from models.ar_cnn import AR_CNN\n",
    "\n",
    "# Verifica dispositivo\n",
    "device = 'cuda' if torch.cuda.is_available() else 'cpu'\n",
    "print(\"Dispositivo:\", device)\n"
   ]
  },
  {
   "cell_type": "code",
   "execution_count": 2,
   "metadata": {},
   "outputs": [],
   "source": [
    "# Célula 3: Função de inferência para imagem inteira\n",
    "def process_full_image(model, image, device='cuda'):\n",
    "\n",
    "    model.eval()\n",
    "    transform = transforms.ToTensor()\n",
    "    input_tensor = transform(image).unsqueeze(0).to(device)  # Formato: [1, 1, H, W]\n",
    "    \n",
    "    with torch.no_grad():\n",
    "        output_tensor = model(input_tensor)\n",
    "        \n",
    "    output_tensor = output_tensor.squeeze(0).cpu()\n",
    "    to_pil = transforms.ToPILImage()\n",
    "    output_image = to_pil(output_tensor)\n",
    "    return output_image\n"
   ]
  },
  {
   "cell_type": "code",
   "execution_count": 3,
   "metadata": {},
   "outputs": [],
   "source": [
    "# Célula 4: Função para calcular PSNR e SSIM\n",
    "def compute_metrics(img1, img2):\n",
    "\n",
    "    # Converte as imagens para arrays numpy com valores no intervalo [0,1]\n",
    "    np_img1 = np.array(img1).astype(np.float32) / 255.0\n",
    "    np_img2 = np.array(img2).astype(np.float32) / 255.0\n",
    "    \n",
    "    psnr = compare_psnr(np_img1, np_img2, data_range=1.0)\n",
    "    ssim = compare_ssim(np_img1, np_img2, data_range=1.0)\n",
    "    return psnr, ssim\n"
   ]
  },
  {
   "cell_type": "code",
   "execution_count": 32,
   "metadata": {},
   "outputs": [
    {
     "name": "stdout",
     "output_type": "stream",
     "text": [
      "Vídeo selecionado: bqzoom_240p_120f\n",
      "Frame selecionado: frame_0117.png\n",
      "Caminho da imagem original: ../data/frames_y/val/original/bqzoom_240p_120f/frame_0117.png\n",
      "Caminho da imagem processada: ../data/frames_y/val/qp47/bqzoom_240p_120f/frame_0117.png\n"
     ]
    }
   ],
   "source": [
    "# Célula: Seleção aleatória de vídeo e frame\n",
    "\n",
    "import os, random\n",
    "\n",
    "# Diretórios base para imagens originais e processadas\n",
    "original_base_dir  = \"../data/frames_y/val/original\"\n",
    "processed_base_dir = \"../data/frames_y/val/qp47\"\n",
    "\n",
    "# Lista os vídeos disponíveis (assumindo que cada subpasta é um vídeo)\n",
    "videos = [v for v in os.listdir(original_base_dir) \n",
    "          if os.path.isdir(os.path.join(original_base_dir, v))]\n",
    "if not videos:\n",
    "    raise Exception(\"Nenhum vídeo encontrado em \" + original_base_dir)\n",
    "\n",
    "# Seleciona um vídeo aleatório\n",
    "random_video = random.choice(videos)\n",
    "print(\"Vídeo selecionado:\", random_video)\n",
    "\n",
    "# Define os caminhos para o vídeo (original e processado)\n",
    "video_original_dir  = os.path.join(original_base_dir, random_video)\n",
    "video_processed_dir = os.path.join(processed_base_dir, random_video)\n",
    "\n",
    "# Lista os arquivos de frame disponíveis (por exemplo, arquivos .png)\n",
    "frames = [f for f in os.listdir(video_original_dir) if f.endswith('.png')]\n",
    "if not frames:\n",
    "    raise Exception(\"Nenhum frame encontrado em \" + video_original_dir)\n",
    "\n",
    "# Seleciona um frame aleatório\n",
    "random_frame = random.choice(frames)\n",
    "print(\"Frame selecionado:\", random_frame)\n",
    "\n",
    "# Define os caminhos completos para o frame\n",
    "original_image_path  = os.path.join(video_original_dir, random_frame)\n",
    "processed_image_path = os.path.join(video_processed_dir, random_frame)\n",
    "\n",
    "print(\"Caminho da imagem original:\", original_image_path)\n",
    "print(\"Caminho da imagem processada:\", processed_image_path)\n"
   ]
  },
  {
   "cell_type": "code",
   "execution_count": null,
   "metadata": {},
   "outputs": [
    {
     "ename": "FileNotFoundError",
     "evalue": "[Errno 2] No such file or directory: 'mlartifacts/767135200827412937/147ad5a9e19648bc9c6052d4c44eef3f/artifacts/best_psnr_model.pt'",
     "output_type": "error",
     "traceback": [
      "\u001b[0;31m---------------------------------------------------------------------------\u001b[0m",
      "\u001b[0;31mFileNotFoundError\u001b[0m                         Traceback (most recent call last)",
      "Cell \u001b[0;32mIn[33], line 9\u001b[0m\n\u001b[1;32m      7\u001b[0m \u001b[38;5;66;03m# Inicializa o modelo e carrega os pesos\u001b[39;00m\n\u001b[1;32m      8\u001b[0m model \u001b[38;5;241m=\u001b[39m AR_CNN()\u001b[38;5;241m.\u001b[39mto(device)\n\u001b[0;32m----> 9\u001b[0m model\u001b[38;5;241m.\u001b[39mload_state_dict(\u001b[43mtorch\u001b[49m\u001b[38;5;241;43m.\u001b[39;49m\u001b[43mload\u001b[49m\u001b[43m(\u001b[49m\u001b[38;5;124;43m\"\u001b[39;49m\u001b[38;5;124;43mmlartifacts/767135200827412937/147ad5a9e19648bc9c6052d4c44eef3f/artifacts/best_psnr_model.pt\u001b[39;49m\u001b[38;5;124;43m\"\u001b[39;49m\u001b[43m,\u001b[49m\u001b[43m \u001b[49m\u001b[43mmap_location\u001b[49m\u001b[38;5;241;43m=\u001b[39;49m\u001b[43mdevice\u001b[49m\u001b[43m)\u001b[49m)\n\u001b[1;32m     10\u001b[0m model\u001b[38;5;241m.\u001b[39meval()\n\u001b[1;32m     12\u001b[0m \u001b[38;5;66;03m# Processa a imagem \"processada\" para restaurá-la\u001b[39;00m\n",
      "File \u001b[0;32m~/miniconda3/envs/ml_vvc_new/lib/python3.11/site-packages/torch/serialization.py:1425\u001b[0m, in \u001b[0;36mload\u001b[0;34m(f, map_location, pickle_module, weights_only, mmap, **pickle_load_args)\u001b[0m\n\u001b[1;32m   1422\u001b[0m \u001b[38;5;28;01mif\u001b[39;00m \u001b[38;5;124m\"\u001b[39m\u001b[38;5;124mencoding\u001b[39m\u001b[38;5;124m\"\u001b[39m \u001b[38;5;129;01mnot\u001b[39;00m \u001b[38;5;129;01min\u001b[39;00m pickle_load_args\u001b[38;5;241m.\u001b[39mkeys():\n\u001b[1;32m   1423\u001b[0m     pickle_load_args[\u001b[38;5;124m\"\u001b[39m\u001b[38;5;124mencoding\u001b[39m\u001b[38;5;124m\"\u001b[39m] \u001b[38;5;241m=\u001b[39m \u001b[38;5;124m\"\u001b[39m\u001b[38;5;124mutf-8\u001b[39m\u001b[38;5;124m\"\u001b[39m\n\u001b[0;32m-> 1425\u001b[0m \u001b[38;5;28;01mwith\u001b[39;00m \u001b[43m_open_file_like\u001b[49m\u001b[43m(\u001b[49m\u001b[43mf\u001b[49m\u001b[43m,\u001b[49m\u001b[43m \u001b[49m\u001b[38;5;124;43m\"\u001b[39;49m\u001b[38;5;124;43mrb\u001b[39;49m\u001b[38;5;124;43m\"\u001b[39;49m\u001b[43m)\u001b[49m \u001b[38;5;28;01mas\u001b[39;00m opened_file:\n\u001b[1;32m   1426\u001b[0m     \u001b[38;5;28;01mif\u001b[39;00m _is_zipfile(opened_file):\n\u001b[1;32m   1427\u001b[0m         \u001b[38;5;66;03m# The zipfile reader is going to advance the current file position.\u001b[39;00m\n\u001b[1;32m   1428\u001b[0m         \u001b[38;5;66;03m# If we want to actually tail call to torch.jit.load, we need to\u001b[39;00m\n\u001b[1;32m   1429\u001b[0m         \u001b[38;5;66;03m# reset back to the original position.\u001b[39;00m\n\u001b[1;32m   1430\u001b[0m         orig_position \u001b[38;5;241m=\u001b[39m opened_file\u001b[38;5;241m.\u001b[39mtell()\n",
      "File \u001b[0;32m~/miniconda3/envs/ml_vvc_new/lib/python3.11/site-packages/torch/serialization.py:751\u001b[0m, in \u001b[0;36m_open_file_like\u001b[0;34m(name_or_buffer, mode)\u001b[0m\n\u001b[1;32m    749\u001b[0m \u001b[38;5;28;01mdef\u001b[39;00m\u001b[38;5;250m \u001b[39m\u001b[38;5;21m_open_file_like\u001b[39m(name_or_buffer, mode):\n\u001b[1;32m    750\u001b[0m     \u001b[38;5;28;01mif\u001b[39;00m _is_path(name_or_buffer):\n\u001b[0;32m--> 751\u001b[0m         \u001b[38;5;28;01mreturn\u001b[39;00m \u001b[43m_open_file\u001b[49m\u001b[43m(\u001b[49m\u001b[43mname_or_buffer\u001b[49m\u001b[43m,\u001b[49m\u001b[43m \u001b[49m\u001b[43mmode\u001b[49m\u001b[43m)\u001b[49m\n\u001b[1;32m    752\u001b[0m     \u001b[38;5;28;01melse\u001b[39;00m:\n\u001b[1;32m    753\u001b[0m         \u001b[38;5;28;01mif\u001b[39;00m \u001b[38;5;124m\"\u001b[39m\u001b[38;5;124mw\u001b[39m\u001b[38;5;124m\"\u001b[39m \u001b[38;5;129;01min\u001b[39;00m mode:\n",
      "File \u001b[0;32m~/miniconda3/envs/ml_vvc_new/lib/python3.11/site-packages/torch/serialization.py:732\u001b[0m, in \u001b[0;36m_open_file.__init__\u001b[0;34m(self, name, mode)\u001b[0m\n\u001b[1;32m    731\u001b[0m \u001b[38;5;28;01mdef\u001b[39;00m\u001b[38;5;250m \u001b[39m\u001b[38;5;21m__init__\u001b[39m(\u001b[38;5;28mself\u001b[39m, name, mode):\n\u001b[0;32m--> 732\u001b[0m     \u001b[38;5;28msuper\u001b[39m()\u001b[38;5;241m.\u001b[39m\u001b[38;5;21m__init__\u001b[39m(\u001b[38;5;28mopen\u001b[39m(name, mode))\n",
      "\u001b[0;31mFileNotFoundError\u001b[0m: [Errno 2] No such file or directory: 'mlartifacts/767135200827412937/147ad5a9e19648bc9c6052d4c44eef3f/artifacts/best_psnr_model.pt'"
     ]
    }
   ],
   "source": [
    "# Célula: Carrega imagens, restaura com o modelo e exibe resultados\n",
    "\n",
    "# Carrega as imagens e garante que sejam em escala de cinza\n",
    "original_image  = Image.open(original_image_path).convert('L')\n",
    "processed_image = Image.open(processed_image_path).convert('L')\n",
    "\n",
    "# Inicializa o modelo e carrega os pesos\n",
    "model = AR_CNN().to(device)\n",
    "model.load_state_dict(torch.load(\"/home/lucas/VVCEnhancer/mlartifacts/767135200827412937/147ad5a9e19648bc9c6052d4c44eef3f/artifacts/best_ssim_model.pt\", map_location=device))\n",
    "model.eval()\n",
    "\n",
    "# Processa a imagem \"processada\" para restaurá-la\n",
    "restored_image = process_full_image(model, processed_image, device=device)\n",
    "\n",
    "# Calcula as métricas:\n",
    "# - Baseline: imagem processada vs. original\n",
    "# - Restauração: imagem restaurada vs. original\n",
    "psnr_processed, ssim_processed = compute_metrics(original_image, processed_image)\n",
    "psnr_restored,  ssim_restored  = compute_metrics(original_image, restored_image)\n",
    "\n",
    "print(\"Métricas para a imagem processada (baseline):\")\n",
    "print(f\"  PSNR: {psnr_processed:.2f} dB\")\n",
    "print(f\"  SSIM: {ssim_processed:.4f}\")\n",
    "\n",
    "print(\"\\nMétricas para a imagem restaurada pela rede:\")\n",
    "print(f\"  PSNR: {psnr_restored:.2f} dB\")\n",
    "print(f\"  SSIM: {ssim_restored:.4f}\")\n",
    "\n",
    "# Exibe as imagens lado a lado\n",
    "plt.figure(figsize=(15,5))\n",
    "\n",
    "plt.subplot(1,3,1)\n",
    "plt.imshow(original_image, cmap='gray')\n",
    "plt.title(\"Imagem Original\")\n",
    "plt.axis('off')\n",
    "\n",
    "plt.subplot(1,3,2)\n",
    "plt.imshow(processed_image, cmap='gray')\n",
    "plt.title(\"Imagem Processada\")\n",
    "plt.axis('off')\n",
    "\n",
    "plt.subplot(1,3,3)\n",
    "plt.imshow(restored_image, cmap='gray')\n",
    "plt.title(\"Imagem Restaurada\")\n",
    "plt.axis('off')\n",
    "\n",
    "plt.show()\n"
   ]
  },
  {
   "cell_type": "code",
   "execution_count": null,
   "metadata": {},
   "outputs": [],
   "source": []
  }
 ],
 "metadata": {
  "kernelspec": {
   "display_name": "ml_vvc_new",
   "language": "python",
   "name": "python3"
  },
  "language_info": {
   "codemirror_mode": {
    "name": "ipython",
    "version": 3
   },
   "file_extension": ".py",
   "mimetype": "text/x-python",
   "name": "python",
   "nbconvert_exporter": "python",
   "pygments_lexer": "ipython3",
   "version": "3.11.0"
  }
 },
 "nbformat": 4,
 "nbformat_minor": 2
}
